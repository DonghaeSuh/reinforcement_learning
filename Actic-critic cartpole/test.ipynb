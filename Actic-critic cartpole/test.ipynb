{
 "cells": [
  {
   "cell_type": "code",
   "execution_count": 2,
   "id": "52a4e453-53eb-4417-a539-8020de005570",
   "metadata": {},
   "outputs": [
    {
     "name": "stdout",
     "output_type": "stream",
     "text": [
      "Requirement already satisfied: import_ipynb in c:\\users\\gypsi\\anaconda3\\envs\\tfproject\\lib\\site-packages (0.1.3)\n",
      "Note: you may need to restart the kernel to use updated packages.\n"
     ]
    }
   ],
   "source": [
    "pip install import_ipynb"
   ]
  },
  {
   "cell_type": "code",
   "execution_count": 3,
   "id": "402847a3-2950-4b8e-8bec-eda7bbb40479",
   "metadata": {},
   "outputs": [
    {
     "name": "stdout",
     "output_type": "stream",
     "text": [
      "Requirement already satisfied: pyglet in c:\\users\\gypsi\\anaconda3\\envs\\tfproject\\lib\\site-packages (1.5.21)\n",
      "Note: you may need to restart the kernel to use updated packages.\n"
     ]
    }
   ],
   "source": [
    "pip install pyglet"
   ]
  },
  {
   "cell_type": "code",
   "execution_count": 1,
   "id": "d6f0b74e-9a07-40e6-b28c-ff6d2decf4e6",
   "metadata": {},
   "outputs": [],
   "source": [
    "import sys\n",
    "import gym\n",
    "import pylab\n",
    "import numpy as np\n",
    "import tensorflow as tf\n",
    "from tensorflow.keras.layers import Dense\n",
    "from tensorflow.keras.initializers import RandomUniform"
   ]
  },
  {
   "cell_type": "code",
   "execution_count": 2,
   "id": "213ff298-2f61-4d0c-9785-e642c12b1c77",
   "metadata": {},
   "outputs": [],
   "source": [
    "\n",
    "# 정책 신경망과 가치 신경망 생성\n",
    "class A2C(tf.keras.Model):\n",
    "    def __init__(self, action_size):\n",
    "        super(A2C, self).__init__()\n",
    "        self.actor_fc = Dense(24, activation='tanh')\n",
    "        self.actor_out = Dense(action_size, activation='softmax',\n",
    "                               kernel_initializer=RandomUniform(-1e-3, 1e-3))\n",
    "        self.critic_fc1 = Dense(24, activation='tanh')\n",
    "        self.critic_fc2 = Dense(24, activation='tanh')\n",
    "        self.critic_out = Dense(1,\n",
    "                                kernel_initializer=RandomUniform(-1e-3, 1e-3))\n",
    "\n",
    "    def call(self, x):\n",
    "        actor_x = self.actor_fc(x)\n",
    "        policy = self.actor_out(actor_x)\n",
    "\n",
    "        critic_x = self.critic_fc1(x)\n",
    "        critic_x = self.critic_fc2(critic_x)\n",
    "        value = self.critic_out(critic_x)\n",
    "        return policy, value\n",
    "\n"
   ]
  },
  {
   "cell_type": "code",
   "execution_count": 3,
   "id": "110be182-3e68-4e35-ab1e-8f33c88a09b5",
   "metadata": {},
   "outputs": [],
   "source": [
    "\n",
    "\n",
    "# 카트폴 예제에서의 액터-크리틱(A2C) 에이전트\n",
    "class A2CAgent:\n",
    "    def __init__(self, action_size):\n",
    "        # 행동의 크기 정의\n",
    "        self.action_size = action_size\n",
    "\n",
    "        # 정책신경망과 가치신경망 생성\n",
    "        self.model = A2C(self.action_size)\n",
    "        self.model.load_weights(\"./save_model/model\")\n",
    "\n",
    "    # 정책신경망의 출력을 받아 확률적으로 행동을 선택\n",
    "    def get_action(self, state):\n",
    "        policy, _ = self.model(state)\n",
    "        policy = np.array(policy[0])\n",
    "        return np.random.choice(self.action_size, 1, p=policy)[0]\n"
   ]
  },
  {
   "cell_type": "code",
   "execution_count": 4,
   "id": "1d8164b5-fcb9-4d35-a73e-4120294db2b3",
   "metadata": {},
   "outputs": [
    {
     "name": "stdout",
     "output_type": "stream",
     "text": [
      "episode:   0 | score:   1\n",
      "episode:   1 | score:   1\n",
      "episode:   2 | score:   1\n",
      "episode:   3 | score:   1\n",
      "episode:   4 | score:   1\n",
      "episode:   5 | score:   1\n",
      "episode:   6 | score:   1\n",
      "episode:   7 | score:   1\n",
      "episode:   8 | score:   1\n",
      "episode:   9 | score:   1\n"
     ]
    }
   ],
   "source": [
    "if __name__ == \"__main__\":\n",
    "    # CartPole-v1 환경, 최대 타임스텝 수가 500\n",
    "    env = gym.make('CartPole-v1')\n",
    "    # 환경으로부터 상태와 행동의 크기를 받아옴\n",
    "    state_size = env.observation_space.shape[0]\n",
    "    action_size = env.action_space.n\n",
    "\n",
    "    # 액터-크리틱(A2C) 에이전트 생성\n",
    "    agent = A2CAgent(action_size)\n",
    "\n",
    "    num_episode = 10\n",
    "    for e in range(num_episode):\n",
    "        done = False\n",
    "        score = 0\n",
    "        state = env.reset()\n",
    "        state = np.reshape(state, [1, state_size])\n",
    "\n",
    "        while not done:\n",
    "            env.render()\n",
    "\n",
    "            action = agent.get_action(state)\n",
    "            next_state, reward, done, info = env.step(action)\n",
    "            next_state = np.reshape(next_state, [1, state_size])\n",
    "\n",
    "            score += reward\n",
    "            state = next_state\n",
    "\n",
    "            if done:\n",
    "                print(\"episode: {:3d} | score: {:3d}\".format(e, int(score)))"
   ]
  },
  {
   "cell_type": "code",
   "execution_count": 8,
   "id": "fe1b11bf-fe48-495f-a37e-20adf79d5bc2",
   "metadata": {},
   "outputs": [],
   "source": [
    "exit()"
   ]
  },
  {
   "cell_type": "code",
   "execution_count": null,
   "id": "94812b96-987a-435d-b097-de60f8d80ec6",
   "metadata": {},
   "outputs": [],
   "source": []
  }
 ],
 "metadata": {
  "kernelspec": {
   "display_name": "Python 3 (ipykernel)",
   "language": "python",
   "name": "python3"
  },
  "language_info": {
   "codemirror_mode": {
    "name": "ipython",
    "version": 3
   },
   "file_extension": ".py",
   "mimetype": "text/x-python",
   "name": "python",
   "nbconvert_exporter": "python",
   "pygments_lexer": "ipython3",
   "version": "3.9.7"
  }
 },
 "nbformat": 4,
 "nbformat_minor": 5
}
