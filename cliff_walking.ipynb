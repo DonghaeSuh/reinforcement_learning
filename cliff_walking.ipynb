{
 "cells": [
  {
   "cell_type": "code",
   "execution_count": 1,
   "id": "8b8b0b8b-008d-4c7f-b139-57d5586eaf9b",
   "metadata": {},
   "outputs": [],
   "source": [
    "import numpy as np\n",
    "import tkinter\n",
    "import matplotlib\n",
    "matplotlib.use('TkAgg')\n",
    "import matplotlib.pyplot as plt\n",
    "from tqdm import tqdm\n",
    "\n",
    "# world height\n",
    "WORLD_HEIGHT = 8\n",
    "\n",
    "# world width\n",
    "WORLD_WIDTH = 12\n",
    "\n",
    "# wind strength for each column\n",
    "WIND = [0, 0, 0, 1, 1, 1, 2, 2, 1, 0]\n",
    "\n",
    "# probability for exploration\n",
    "EPSILON = 0.1\n",
    "\n",
    "# step size\n",
    "ALPHA = 0.5\n",
    "\n",
    "# gamma for Q-Learning and Expected Sarsa\n",
    "GAMMA = 1\n",
    "\n",
    "# all possible actions\n",
    "ACTION_UP = 0\n",
    "ACTION_DOWN = 1\n",
    "ACTION_LEFT = 2\n",
    "ACTION_RIGHT = 3\n",
    "ACTIONS = [ACTION_UP, ACTION_DOWN, ACTION_LEFT, ACTION_RIGHT]\n",
    "\n",
    "# initial state action pair values\n",
    "START = [3, 0]\n",
    "GOAL = [3, 11]"
   ]
  },
  {
   "cell_type": "code",
   "execution_count": 2,
   "id": "5a00cf4f-4a0b-4768-bbd3-14eb543d8314",
   "metadata": {
    "tags": []
   },
   "outputs": [],
   "source": [
    "def step(state, action):\n",
    "    i, j = state\n",
    "    if action == ACTION_UP:\n",
    "        next_state = [max(i - 1, 0), j]\n",
    "    elif action == ACTION_LEFT:\n",
    "        next_state = [i, max(j - 1, 0)]\n",
    "    elif action == ACTION_RIGHT:\n",
    "        next_state = [i, min(j + 1, WORLD_WIDTH - 1)]\n",
    "    elif action == ACTION_DOWN:\n",
    "        next_state = [min(i + 1, WORLD_HEIGHT - 1), j]\n",
    "    else:\n",
    "        assert False\n",
    "        \n",
    "    reward = -1\n",
    "    if (action == ACTION_DOWN and i == 2 and 1 <= j <= 10) or (\n",
    "        action == ACTION_RIGHT and state == START):\n",
    "        reward = -100\n",
    "        next_state = START\n",
    "\n",
    "    return next_state, reward"
   ]
  },
  {
   "cell_type": "code",
   "execution_count": 3,
   "id": "f0a29e0d-6f76-477c-a635-c7b45a1a37eb",
   "metadata": {},
   "outputs": [],
   "source": [
    "def choose_action(state, q_value):\n",
    "    if np.random.binomial(1, EPSILON) == 1:\n",
    "        return np.random.choice(ACTIONS)\n",
    "    else:\n",
    "        values_ = q_value[state[0], state[1], :]\n",
    "        return np.random.choice([action_ for action_, value_ in enumerate(values_) if value_ == np.max(values_)])"
   ]
  },
  {
   "cell_type": "code",
   "execution_count": 4,
   "id": "947d170a-05f0-4ce4-8569-bce63a6e1a01",
   "metadata": {},
   "outputs": [],
   "source": [
    "def sarsa(q_value, expected=False, step_size=ALPHA):\n",
    "    state = START\n",
    "    action = choose_action(state, q_value)\n",
    "    rewards = 0.0\n",
    "    while state != GOAL:\n",
    "        next_state, reward = step(state, action)\n",
    "        next_action = choose_action(next_state, q_value)\n",
    "        rewards += reward\n",
    "        target = q_value[next_state[0], next_state[1], next_action]\n",
    "        target *= GAMMA\n",
    "        q_value[state[0], state[1], action] += step_size * (\n",
    "                reward + target - q_value[state[0], state[1], action])\n",
    "        state = next_state\n",
    "        action = next_action\n",
    "    return rewards"
   ]
  },
  {
   "cell_type": "code",
   "execution_count": 5,
   "id": "7eaa8ea8-241f-4ff7-8a77-ee5a7ec3674f",
   "metadata": {
    "tags": []
   },
   "outputs": [],
   "source": [
    "def q_learning(q_value, step_size=ALPHA):\n",
    "    state = START\n",
    "    rewards = 0.0\n",
    "    while state != GOAL:\n",
    "        action = choose_action(state, q_value)\n",
    "        next_state, reward = step(state, action)\n",
    "        rewards += reward\n",
    "        # Q-Learning update\n",
    "        q_value[state[0], state[1], action] += step_size * (\n",
    "                reward + GAMMA * np.max(q_value[next_state[0], next_state[1], :]) -\n",
    "                q_value[state[0], state[1], action])\n",
    "        state = next_state\n",
    "    return rewards"
   ]
  },
  {
   "cell_type": "code",
   "execution_count": 6,
   "id": "5f11a153-ca8c-441f-ac85-10b76b4bc2c4",
   "metadata": {},
   "outputs": [],
   "source": [
    "def print_optimal_policy(q_value):\n",
    "    optimal_policy = []\n",
    "    for i in range(0, WORLD_HEIGHT):\n",
    "        optimal_policy.append([])\n",
    "        for j in range(0, WORLD_WIDTH):\n",
    "            if [i, j] == GOAL:\n",
    "                optimal_policy[-1].append('G')\n",
    "                continue\n",
    "            bestAction = np.argmax(q_value[i, j, :])\n",
    "            if bestAction == ACTION_UP:\n",
    "                optimal_policy[-1].append('U')\n",
    "            elif bestAction == ACTION_DOWN:\n",
    "                optimal_policy[-1].append('D')\n",
    "            elif bestAction == ACTION_LEFT:\n",
    "                optimal_policy[-1].append('L')\n",
    "            elif bestAction == ACTION_RIGHT:\n",
    "                optimal_policy[-1].append('R')\n",
    "    for row in optimal_policy:\n",
    "        print(row)\n"
   ]
  },
  {
   "cell_type": "code",
   "execution_count": 7,
   "id": "b9fd6efe-df3a-4428-a991-9645aa77a27b",
   "metadata": {},
   "outputs": [],
   "source": [
    "def figure_6_4():\n",
    "    # episodes of each run\n",
    "    episodes = 500\n",
    "\n",
    "    # perform 40 independent runs\n",
    "    runs = 50\n",
    "\n",
    "    rewards_sarsa = np.zeros(episodes)\n",
    "    rewards_q_learning = np.zeros(episodes)\n",
    "    for r in tqdm(range(runs)):\n",
    "        q_sarsa = np.zeros((WORLD_HEIGHT, WORLD_WIDTH, 4))\n",
    "        q_q_learning = np.copy(q_sarsa)\n",
    "        for i in range(0, episodes):\n",
    "            # cut off the value by -100 to draw the figure more elegantly\n",
    "            # rewards_sarsa[i] += max(sarsa(q_sarsa), -100)\n",
    "            # rewards_q_learning[i] += max(q_learning(q_q_learning), -100)\n",
    "            rewards_sarsa[i] += sarsa(q_sarsa)\n",
    "            rewards_q_learning[i] += q_learning(q_q_learning)\n",
    "\n",
    "    # averaging over independt runs\n",
    "    rewards_sarsa /= runs\n",
    "    rewards_q_learning /= runs\n",
    "\n",
    "    # draw reward curves\n",
    "    plt.plot(rewards_sarsa, label='Sarsa')\n",
    "    plt.plot(rewards_q_learning, label='Q-Learning')\n",
    "    plt.xlabel('Episodes')\n",
    "    plt.ylabel('Sum of rewards during episode')\n",
    "    plt.ylim([-100, 0])\n",
    "    plt.legend()\n",
    "\n",
    "    plt.savefig('test4.png')\n",
    "    plt.show()\n",
    "\n",
    "    # display optimal policy\n",
    "    print('Sarsa Optimal Policy:')\n",
    "    print_optimal_policy(q_sarsa)\n",
    "    print('Q-Learning Optimal Policy:')\n",
    "    print_optimal_policy(q_q_learning)"
   ]
  },
  {
   "cell_type": "code",
   "execution_count": 8,
   "id": "6f0c5466-8e0c-4990-9aa2-30ccd3df27f6",
   "metadata": {},
   "outputs": [
    {
     "name": "stderr",
     "output_type": "stream",
     "text": [
      "100%|██████████| 50/50 [00:55<00:00,  1.12s/it]\n"
     ]
    },
    {
     "name": "stdout",
     "output_type": "stream",
     "text": [
      "Sarsa Optimal Policy:\n",
      "['L', 'R', 'U', 'R', 'R', 'R', 'R', 'R', 'R', 'R', 'R', 'D']\n",
      "['R', 'R', 'R', 'U', 'R', 'R', 'D', 'U', 'U', 'L', 'R', 'D']\n",
      "['U', 'R', 'U', 'U', 'R', 'U', 'R', 'L', 'U', 'R', 'R', 'D']\n",
      "['D', 'R', 'R', 'D', 'R', 'D', 'R', 'R', 'R', 'L', 'R', 'G']\n",
      "['R', 'R', 'D', 'R', 'U', 'U', 'R', 'R', 'R', 'D', 'R', 'U']\n",
      "['R', 'R', 'D', 'D', 'R', 'R', 'R', 'L', 'D', 'R', 'R', 'U']\n",
      "['R', 'R', 'D', 'D', 'R', 'D', 'R', 'R', 'R', 'R', 'R', 'U']\n",
      "['R', 'L', 'D', 'R', 'D', 'R', 'R', 'R', 'R', 'R', 'U', 'U']\n",
      "Q-Learning Optimal Policy:\n",
      "['R', 'U', 'R', 'R', 'R', 'R', 'R', 'R', 'R', 'L', 'R', 'D']\n",
      "['R', 'R', 'R', 'L', 'R', 'R', 'D', 'R', 'R', 'D', 'R', 'D']\n",
      "['R', 'R', 'R', 'R', 'R', 'R', 'R', 'R', 'R', 'R', 'R', 'D']\n",
      "['D', 'R', 'R', 'R', 'R', 'R', 'R', 'R', 'R', 'R', 'R', 'G']\n",
      "['R', 'R', 'R', 'U', 'R', 'R', 'R', 'R', 'U', 'R', 'U', 'U']\n",
      "['D', 'R', 'U', 'U', 'R', 'R', 'R', 'R', 'U', 'R', 'R', 'U']\n",
      "['R', 'D', 'R', 'L', 'R', 'L', 'R', 'R', 'U', 'R', 'R', 'U']\n",
      "['U', 'L', 'R', 'D', 'U', 'R', 'R', 'R', 'L', 'R', 'R', 'D']\n"
     ]
    }
   ],
   "source": [
    "figure_6_4()"
   ]
  },
  {
   "cell_type": "code",
   "execution_count": null,
   "id": "3ce07f1f-341f-4237-9198-457752e1ee8d",
   "metadata": {},
   "outputs": [],
   "source": []
  }
 ],
 "metadata": {
  "kernelspec": {
   "display_name": "Python 3",
   "language": "python",
   "name": "python3"
  },
  "language_info": {
   "codemirror_mode": {
    "name": "ipython",
    "version": 3
   },
   "file_extension": ".py",
   "mimetype": "text/x-python",
   "name": "python",
   "nbconvert_exporter": "python",
   "pygments_lexer": "ipython3",
   "version": "3.8.8"
  }
 },
 "nbformat": 4,
 "nbformat_minor": 5
}
